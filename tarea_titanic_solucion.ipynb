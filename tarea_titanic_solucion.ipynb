{
  "nbformat": 4,
  "nbformat_minor": 0,
  "metadata": {
    "colab": {
      "provenance": []
    },
    "kernelspec": {
      "name": "python3",
      "display_name": "Python 3"
    },
    "language_info": {
      "name": "python"
    }
  },
  "cells": [
    {
      "cell_type": "markdown",
      "source": [
        "#Resolucion Tarea Titanic\n",
        "\n",
        "Docente: Gabriela Espinoza Picado"
      ],
      "metadata": {
        "id": "JLSzb2kL5tdL"
      }
    },
    {
      "cell_type": "code",
      "source": [
        "import pandas as pd\n",
        "from sklearn.model_selection import train_test_split\n",
        "from sklearn.preprocessing import OneHotEncoder, StandardScaler\n",
        "from sklearn.impute import SimpleImputer\n",
        "from sklearn.compose import ColumnTransformer\n",
        "from sklearn.pipeline import Pipeline\n",
        "from sklearn.linear_model import LogisticRegression\n",
        "from sklearn.metrics import accuracy_score, recall_score, f1_score, confusion_matrix\n",
        "import matplotlib.pyplot as plt\n",
        "import seaborn as sns"
      ],
      "metadata": {
        "id": "GV36XLi11G2W"
      },
      "execution_count": 14,
      "outputs": []
    },
    {
      "cell_type": "code",
      "source": [
        "# Carga del conjunto de datos\n",
        "file_path = '/content/titanic (3).csv'\n",
        "titanic_data = pd.read_csv(file_path)\n"
      ],
      "metadata": {
        "id": "chVq6aNq1KPw"
      },
      "execution_count": 4,
      "outputs": []
    },
    {
      "cell_type": "code",
      "source": [
        "\n",
        "# Análisis exploratorio básico\n",
        "print(titanic_data.head())\n",
        "print(titanic_data.describe())\n",
        "print(titanic_data.isnull().sum())"
      ],
      "metadata": {
        "colab": {
          "base_uri": "https://localhost:8080/"
        },
        "id": "rGdfWXYG1Wq_",
        "outputId": "c5e4af16-6fd5-4e9a-b5ee-c409c7b5fd05"
      },
      "execution_count": 5,
      "outputs": [
        {
          "output_type": "stream",
          "name": "stdout",
          "text": [
            "   PassengerId  Survived  Pclass  \\\n",
            "0            1         0       3   \n",
            "1            2         1       1   \n",
            "2            3         1       3   \n",
            "3            4         1       1   \n",
            "4            5         0       3   \n",
            "\n",
            "                                                Name     Sex   Age  SibSp  \\\n",
            "0                            Braund, Mr. Owen Harris    male  22.0      1   \n",
            "1  Cumings, Mrs. John Bradley (Florence Briggs Th...  female  38.0      1   \n",
            "2                             Heikkinen, Miss. Laina  female  26.0      0   \n",
            "3       Futrelle, Mrs. Jacques Heath (Lily May Peel)  female  35.0      1   \n",
            "4                           Allen, Mr. William Henry    male  35.0      0   \n",
            "\n",
            "   Parch            Ticket     Fare Cabin Embarked  \n",
            "0      0         A/5 21171   7.2500   NaN        S  \n",
            "1      0          PC 17599  71.2833   C85        C  \n",
            "2      0  STON/O2. 3101282   7.9250   NaN        S  \n",
            "3      0            113803  53.1000  C123        S  \n",
            "4      0            373450   8.0500   NaN        S  \n",
            "       PassengerId    Survived      Pclass         Age       SibSp  \\\n",
            "count   891.000000  891.000000  891.000000  714.000000  891.000000   \n",
            "mean    446.000000    0.383838    2.308642   29.699118    0.523008   \n",
            "std     257.353842    0.486592    0.836071   14.526497    1.102743   \n",
            "min       1.000000    0.000000    1.000000    0.420000    0.000000   \n",
            "25%     223.500000    0.000000    2.000000   20.125000    0.000000   \n",
            "50%     446.000000    0.000000    3.000000   28.000000    0.000000   \n",
            "75%     668.500000    1.000000    3.000000   38.000000    1.000000   \n",
            "max     891.000000    1.000000    3.000000   80.000000    8.000000   \n",
            "\n",
            "            Parch        Fare  \n",
            "count  891.000000  891.000000  \n",
            "mean     0.381594   32.204208  \n",
            "std      0.806057   49.693429  \n",
            "min      0.000000    0.000000  \n",
            "25%      0.000000    7.910400  \n",
            "50%      0.000000   14.454200  \n",
            "75%      0.000000   31.000000  \n",
            "max      6.000000  512.329200  \n",
            "PassengerId      0\n",
            "Survived         0\n",
            "Pclass           0\n",
            "Name             0\n",
            "Sex              0\n",
            "Age            177\n",
            "SibSp            0\n",
            "Parch            0\n",
            "Ticket           0\n",
            "Fare             0\n",
            "Cabin          687\n",
            "Embarked         2\n",
            "dtype: int64\n"
          ]
        }
      ]
    },
    {
      "cell_type": "code",
      "source": [
        "# Limpieza de datos\n",
        "titanic_data['Age'].fillna(titanic_data['Age'].median(), inplace=True)\n",
        "titanic_data.drop(columns=['Cabin'], inplace=True) # Ejemplo de eliminación de una columna con muchos datos faltantes\n"
      ],
      "metadata": {
        "id": "blCv64gt1ZKl"
      },
      "execution_count": 6,
      "outputs": []
    },
    {
      "cell_type": "code",
      "source": [
        "# Creación de nuevas características (ejemplo)\n",
        "titanic_data['FamilySize'] = titanic_data['SibSp'] + titanic_data['Parch']"
      ],
      "metadata": {
        "id": "Pzk0nK9I1cBr"
      },
      "execution_count": 7,
      "outputs": []
    },
    {
      "cell_type": "code",
      "execution_count": 8,
      "metadata": {
        "id": "TrGNDWNMzXqY"
      },
      "outputs": [],
      "source": [
        "\n",
        "# Codificación de variables categóricas y estandarización\n",
        "categorical_features = ['Sex', 'Embarked']\n",
        "numerical_features = ['Age', 'Fare', 'FamilySize']\n",
        "\n",
        "preprocessor = ColumnTransformer(\n",
        "    transformers=[\n",
        "        ('num', StandardScaler(), numerical_features),\n",
        "        ('cat', OneHotEncoder(), categorical_features)])\n",
        "\n"
      ]
    },
    {
      "cell_type": "code",
      "source": [
        "# División en conjunto de entrenamiento y prueba\n",
        "X = titanic_data.drop('Survived', axis=1)\n",
        "y = titanic_data['Survived']\n",
        "X_train, X_test, y_train, y_test = train_test_split(X, y, test_size=0.2, random_state=42)\n",
        "\n"
      ],
      "metadata": {
        "id": "VEZmIK0H1CWB"
      },
      "execution_count": 9,
      "outputs": []
    },
    {
      "cell_type": "code",
      "source": [
        "\n",
        "model = Pipeline(steps=[('preprocessor', preprocessor),\n",
        "                        ('classifier', LogisticRegression())])\n",
        "model.fit(X_train, y_train)\n"
      ],
      "metadata": {
        "colab": {
          "base_uri": "https://localhost:8080/",
          "height": 192
        },
        "id": "xv9jbrHC1neV",
        "outputId": "2d167a4a-56e0-4190-8173-8e136cdc2be2"
      },
      "execution_count": 15,
      "outputs": [
        {
          "output_type": "execute_result",
          "data": {
            "text/plain": [
              "Pipeline(steps=[('preprocessor',\n",
              "                 ColumnTransformer(transformers=[('num', StandardScaler(),\n",
              "                                                  ['Age', 'Fare',\n",
              "                                                   'FamilySize']),\n",
              "                                                 ('cat', OneHotEncoder(),\n",
              "                                                  ['Sex', 'Embarked'])])),\n",
              "                ('classifier', LogisticRegression())])"
            ],
            "text/html": [
              "<style>#sk-container-id-2 {color: black;background-color: white;}#sk-container-id-2 pre{padding: 0;}#sk-container-id-2 div.sk-toggleable {background-color: white;}#sk-container-id-2 label.sk-toggleable__label {cursor: pointer;display: block;width: 100%;margin-bottom: 0;padding: 0.3em;box-sizing: border-box;text-align: center;}#sk-container-id-2 label.sk-toggleable__label-arrow:before {content: \"▸\";float: left;margin-right: 0.25em;color: #696969;}#sk-container-id-2 label.sk-toggleable__label-arrow:hover:before {color: black;}#sk-container-id-2 div.sk-estimator:hover label.sk-toggleable__label-arrow:before {color: black;}#sk-container-id-2 div.sk-toggleable__content {max-height: 0;max-width: 0;overflow: hidden;text-align: left;background-color: #f0f8ff;}#sk-container-id-2 div.sk-toggleable__content pre {margin: 0.2em;color: black;border-radius: 0.25em;background-color: #f0f8ff;}#sk-container-id-2 input.sk-toggleable__control:checked~div.sk-toggleable__content {max-height: 200px;max-width: 100%;overflow: auto;}#sk-container-id-2 input.sk-toggleable__control:checked~label.sk-toggleable__label-arrow:before {content: \"▾\";}#sk-container-id-2 div.sk-estimator input.sk-toggleable__control:checked~label.sk-toggleable__label {background-color: #d4ebff;}#sk-container-id-2 div.sk-label input.sk-toggleable__control:checked~label.sk-toggleable__label {background-color: #d4ebff;}#sk-container-id-2 input.sk-hidden--visually {border: 0;clip: rect(1px 1px 1px 1px);clip: rect(1px, 1px, 1px, 1px);height: 1px;margin: -1px;overflow: hidden;padding: 0;position: absolute;width: 1px;}#sk-container-id-2 div.sk-estimator {font-family: monospace;background-color: #f0f8ff;border: 1px dotted black;border-radius: 0.25em;box-sizing: border-box;margin-bottom: 0.5em;}#sk-container-id-2 div.sk-estimator:hover {background-color: #d4ebff;}#sk-container-id-2 div.sk-parallel-item::after {content: \"\";width: 100%;border-bottom: 1px solid gray;flex-grow: 1;}#sk-container-id-2 div.sk-label:hover label.sk-toggleable__label {background-color: #d4ebff;}#sk-container-id-2 div.sk-serial::before {content: \"\";position: absolute;border-left: 1px solid gray;box-sizing: border-box;top: 0;bottom: 0;left: 50%;z-index: 0;}#sk-container-id-2 div.sk-serial {display: flex;flex-direction: column;align-items: center;background-color: white;padding-right: 0.2em;padding-left: 0.2em;position: relative;}#sk-container-id-2 div.sk-item {position: relative;z-index: 1;}#sk-container-id-2 div.sk-parallel {display: flex;align-items: stretch;justify-content: center;background-color: white;position: relative;}#sk-container-id-2 div.sk-item::before, #sk-container-id-2 div.sk-parallel-item::before {content: \"\";position: absolute;border-left: 1px solid gray;box-sizing: border-box;top: 0;bottom: 0;left: 50%;z-index: -1;}#sk-container-id-2 div.sk-parallel-item {display: flex;flex-direction: column;z-index: 1;position: relative;background-color: white;}#sk-container-id-2 div.sk-parallel-item:first-child::after {align-self: flex-end;width: 50%;}#sk-container-id-2 div.sk-parallel-item:last-child::after {align-self: flex-start;width: 50%;}#sk-container-id-2 div.sk-parallel-item:only-child::after {width: 0;}#sk-container-id-2 div.sk-dashed-wrapped {border: 1px dashed gray;margin: 0 0.4em 0.5em 0.4em;box-sizing: border-box;padding-bottom: 0.4em;background-color: white;}#sk-container-id-2 div.sk-label label {font-family: monospace;font-weight: bold;display: inline-block;line-height: 1.2em;}#sk-container-id-2 div.sk-label-container {text-align: center;}#sk-container-id-2 div.sk-container {/* jupyter's `normalize.less` sets `[hidden] { display: none; }` but bootstrap.min.css set `[hidden] { display: none !important; }` so we also need the `!important` here to be able to override the default hidden behavior on the sphinx rendered scikit-learn.org. See: https://github.com/scikit-learn/scikit-learn/issues/21755 */display: inline-block !important;position: relative;}#sk-container-id-2 div.sk-text-repr-fallback {display: none;}</style><div id=\"sk-container-id-2\" class=\"sk-top-container\"><div class=\"sk-text-repr-fallback\"><pre>Pipeline(steps=[(&#x27;preprocessor&#x27;,\n",
              "                 ColumnTransformer(transformers=[(&#x27;num&#x27;, StandardScaler(),\n",
              "                                                  [&#x27;Age&#x27;, &#x27;Fare&#x27;,\n",
              "                                                   &#x27;FamilySize&#x27;]),\n",
              "                                                 (&#x27;cat&#x27;, OneHotEncoder(),\n",
              "                                                  [&#x27;Sex&#x27;, &#x27;Embarked&#x27;])])),\n",
              "                (&#x27;classifier&#x27;, LogisticRegression())])</pre><b>In a Jupyter environment, please rerun this cell to show the HTML representation or trust the notebook. <br />On GitHub, the HTML representation is unable to render, please try loading this page with nbviewer.org.</b></div><div class=\"sk-container\" hidden><div class=\"sk-item sk-dashed-wrapped\"><div class=\"sk-label-container\"><div class=\"sk-label sk-toggleable\"><input class=\"sk-toggleable__control sk-hidden--visually\" id=\"sk-estimator-id-8\" type=\"checkbox\" ><label for=\"sk-estimator-id-8\" class=\"sk-toggleable__label sk-toggleable__label-arrow\">Pipeline</label><div class=\"sk-toggleable__content\"><pre>Pipeline(steps=[(&#x27;preprocessor&#x27;,\n",
              "                 ColumnTransformer(transformers=[(&#x27;num&#x27;, StandardScaler(),\n",
              "                                                  [&#x27;Age&#x27;, &#x27;Fare&#x27;,\n",
              "                                                   &#x27;FamilySize&#x27;]),\n",
              "                                                 (&#x27;cat&#x27;, OneHotEncoder(),\n",
              "                                                  [&#x27;Sex&#x27;, &#x27;Embarked&#x27;])])),\n",
              "                (&#x27;classifier&#x27;, LogisticRegression())])</pre></div></div></div><div class=\"sk-serial\"><div class=\"sk-item sk-dashed-wrapped\"><div class=\"sk-label-container\"><div class=\"sk-label sk-toggleable\"><input class=\"sk-toggleable__control sk-hidden--visually\" id=\"sk-estimator-id-9\" type=\"checkbox\" ><label for=\"sk-estimator-id-9\" class=\"sk-toggleable__label sk-toggleable__label-arrow\">preprocessor: ColumnTransformer</label><div class=\"sk-toggleable__content\"><pre>ColumnTransformer(transformers=[(&#x27;num&#x27;, StandardScaler(),\n",
              "                                 [&#x27;Age&#x27;, &#x27;Fare&#x27;, &#x27;FamilySize&#x27;]),\n",
              "                                (&#x27;cat&#x27;, OneHotEncoder(), [&#x27;Sex&#x27;, &#x27;Embarked&#x27;])])</pre></div></div></div><div class=\"sk-parallel\"><div class=\"sk-parallel-item\"><div class=\"sk-item\"><div class=\"sk-label-container\"><div class=\"sk-label sk-toggleable\"><input class=\"sk-toggleable__control sk-hidden--visually\" id=\"sk-estimator-id-10\" type=\"checkbox\" ><label for=\"sk-estimator-id-10\" class=\"sk-toggleable__label sk-toggleable__label-arrow\">num</label><div class=\"sk-toggleable__content\"><pre>[&#x27;Age&#x27;, &#x27;Fare&#x27;, &#x27;FamilySize&#x27;]</pre></div></div></div><div class=\"sk-serial\"><div class=\"sk-item\"><div class=\"sk-estimator sk-toggleable\"><input class=\"sk-toggleable__control sk-hidden--visually\" id=\"sk-estimator-id-11\" type=\"checkbox\" ><label for=\"sk-estimator-id-11\" class=\"sk-toggleable__label sk-toggleable__label-arrow\">StandardScaler</label><div class=\"sk-toggleable__content\"><pre>StandardScaler()</pre></div></div></div></div></div></div><div class=\"sk-parallel-item\"><div class=\"sk-item\"><div class=\"sk-label-container\"><div class=\"sk-label sk-toggleable\"><input class=\"sk-toggleable__control sk-hidden--visually\" id=\"sk-estimator-id-12\" type=\"checkbox\" ><label for=\"sk-estimator-id-12\" class=\"sk-toggleable__label sk-toggleable__label-arrow\">cat</label><div class=\"sk-toggleable__content\"><pre>[&#x27;Sex&#x27;, &#x27;Embarked&#x27;]</pre></div></div></div><div class=\"sk-serial\"><div class=\"sk-item\"><div class=\"sk-estimator sk-toggleable\"><input class=\"sk-toggleable__control sk-hidden--visually\" id=\"sk-estimator-id-13\" type=\"checkbox\" ><label for=\"sk-estimator-id-13\" class=\"sk-toggleable__label sk-toggleable__label-arrow\">OneHotEncoder</label><div class=\"sk-toggleable__content\"><pre>OneHotEncoder()</pre></div></div></div></div></div></div></div></div><div class=\"sk-item\"><div class=\"sk-estimator sk-toggleable\"><input class=\"sk-toggleable__control sk-hidden--visually\" id=\"sk-estimator-id-14\" type=\"checkbox\" ><label for=\"sk-estimator-id-14\" class=\"sk-toggleable__label sk-toggleable__label-arrow\">LogisticRegression</label><div class=\"sk-toggleable__content\"><pre>LogisticRegression()</pre></div></div></div></div></div></div></div>"
            ]
          },
          "metadata": {},
          "execution_count": 15
        }
      ]
    },
    {
      "cell_type": "code",
      "source": [
        "# Evaluación del modelo\n",
        "y_pred = model.predict(X_test)\n",
        "print(\"Accuracy:\", accuracy_score(y_test, y_pred))\n",
        "print(\"Recall:\", recall_score(y_test, y_pred))\n",
        "print(\"F1 Score:\", f1_score(y_test, y_pred))\n",
        "print(\"Confusion Matrix:\\n\", confusion_matrix(y_test, y_pred))\n"
      ],
      "metadata": {
        "colab": {
          "base_uri": "https://localhost:8080/"
        },
        "id": "5NDatV441o_A",
        "outputId": "aac1d8b3-a6e8-4825-bc3f-b1b16a3647a8"
      },
      "execution_count": 16,
      "outputs": [
        {
          "output_type": "stream",
          "name": "stdout",
          "text": [
            "Accuracy: 0.7877094972067039\n",
            "Recall: 0.6891891891891891\n",
            "F1 Score: 0.7285714285714284\n",
            "Confusion Matrix:\n",
            " [[90 15]\n",
            " [23 51]]\n"
          ]
        }
      ]
    },
    {
      "cell_type": "markdown",
      "source": [
        "* ccuracy (Precisión): 0.7877\n",
        "\n",
        "Esta es la proporción de predicciones correctas sobre el total de predicciones. En tu caso, aproximadamente el 78.77% de las predicciones del modelo son correctas.\n",
        "* Recall (Sensibilidad): 0.6892\n",
        "\n",
        "El recall mide la proporción de positivos reales (en este caso, pasajeros que realmente sobrevivieron) que fueron identificados correctamente. Un recall de 0.6892 significa que el modelo identificó correctamente alrededor del 68.92% de los pasajeros que sobrevivieron.\n",
        "* F1 Score: 0.7286\n",
        "\n",
        "El F1 Score es una medida que combina la precisión y el recall. Es útil cuando se busca un equilibrio entre estas dos métricas, especialmente si la distribución de clases es desigual. Un F1 Score de 0.7286 es un valor intermedio que sugiere un equilibrio razonable entre precisión y recall.\n",
        "* Confusion Matrix: [[90 15] [23 51]]\n",
        "\n",
        "La matriz de confusión muestra el número de predicciones correctas e incorrectas en cada clase. Aquí, 90 y 51 son el número de predicciones correctas para las clases \"no sobrevivido\" y \"sobrevivido\", respectivamente, mientras que 15 y 23 son los errores para cada clase."
      ],
      "metadata": {
        "id": "YI_eFNVM4GGB"
      }
    },
    {
      "cell_type": "markdown",
      "source": [
        "* Verdaderos Negativos (90): El modelo predijo correctamente que 90 personas no sobrevivirían (y efectivamente no sobrevivieron). Estas son las predicciones correctas para la clase \"no sobrevivido\".\n",
        "\n",
        "* Falsos Positivos (15): El modelo predijo incorrectamente que 15 personas sobrevivirían, pero en realidad no lo hicieron. Estas son las predicciones incorrectas donde el modelo erróneamente asignó a pasajeros a la clase \"sobrevivido\".\n",
        "\n",
        "* Falsos Negativos (23): El modelo predijo incorrectamente que 23 personas no sobrevivirían, pero en realidad sí lo hicieron. Estas son las predicciones incorrectas donde el modelo erróneamente asignó a pasajeros a la clase \"no sobrevivido\".\n",
        "\n",
        "* Verdaderos Positivos (51): El modelo predijo correctamente que 51 personas sobrevivirían (y efectivamente sobrevivieron). Estas son las predicciones correctas para la clase \"sobrevivido\".\n",
        "\n",
        "En resumen, la matriz de confusión se compone de:\n",
        "\n",
        "* Esquina superior izquierda (90): Número de predicciones correctas de no sobrevivientes.\n",
        "* Esquina superior derecha (15): Número de predicciones incorrectas donde se predijo supervivencia pero el pasajero no sobrevivió.\n",
        "* Esquina inferior izquierda (23): Número de predicciones incorrectas donde se predijo no supervivencia pero el pasajero sobrevivió.\n",
        "* Esquina inferior derecha (51): Número de predicciones correctas de supervivientes."
      ],
      "metadata": {
        "id": "OTVpxbXN5Z-v"
      }
    },
    {
      "cell_type": "code",
      "source": [
        "# Visualización de la Matriz de Confusión\n",
        "cm = confusion_matrix(y_test, y_pred)\n",
        "sns.heatmap(cm, annot=True, fmt=\"d\")\n",
        "plt.xlabel('Predicted')\n",
        "plt.ylabel('Truth')\n",
        "plt.show()"
      ],
      "metadata": {
        "colab": {
          "base_uri": "https://localhost:8080/",
          "height": 455
        },
        "id": "2r_72_Tb1qiu",
        "outputId": "089ddf3f-7553-4cfc-edf0-91ff299cffc4"
      },
      "execution_count": 17,
      "outputs": [
        {
          "output_type": "display_data",
          "data": {
            "text/plain": [
              "<Figure size 640x480 with 2 Axes>"
            ],
            "image/png": "[encoded data removed]"
          },
          "metadata": {}
        }
      ]
    },
    {
      "cell_type": "code",
      "source": [
        "# Accediendo a los coeficientes del modelo\n",
        "coefficients = model.named_steps['classifier'].coef_[0]\n",
        "features = numerical_features + list(model.named_steps['preprocessor'].named_transformers_['cat'].get_feature_names_out())\n",
        "\n",
        "# Imprimiendo los coeficientes\n",
        "print(\"Coeficientes del Modelo de Regresión Logística:\")\n",
        "for feature, coef in zip(features, coefficients):\n",
        "    print(f\"{feature}: {coef}\")\n"
      ],
      "metadata": {
        "colab": {
          "base_uri": "https://localhost:8080/"
        },
        "id": "pLXo4l8k35Il",
        "outputId": "84c15e39-99a1-4781-ffa7-84a953286485"
      },
      "execution_count": 18,
      "outputs": [
        {
          "output_type": "stream",
          "name": "stdout",
          "text": [
            "Coeficientes del Modelo de Regresión Logística:\n",
            "Age: -0.19493751420432473\n",
            "Fare: 0.6719219919831488\n",
            "FamilySize: -0.498045386882706\n",
            "Sex_female: 1.3003854863288467\n",
            "Sex_male: -1.3042131515205986\n",
            "Embarked_C: 0.28947568406677016\n",
            "Embarked_Q: -0.3287111321374043\n",
            "Embarked_S: -0.19615785565350133\n",
            "Embarked_nan: 0.2315656385323874\n"
          ]
        }
      ]
    },
    {
      "cell_type": "markdown",
      "source": [
        "* Edad (Age): -0.1949\n",
        "\n",
        "Por cada año adicional de edad, la probabilidad de supervivencia disminuye. Esto sugiere que los pasajeros más jóvenes tenían más probabilidades de sobrevivir que los mayores.\n",
        "* Tarifa (Fare): 0.6719\n",
        "\n",
        "Un coeficiente positivo implica que a medida que aumenta la tarifa pagada, también aumenta la probabilidad de supervivencia. Esto podría reflejar que los pasajeros que pagaron tarifas más altas (posiblemente viajando en clases superiores) tenían mayores probabilidades de supervivencia.\n",
        "* Tamaño de la Familia (FamilySize): -0.4980\n",
        "\n",
        "Un tamaño de familia más grande está asociado con una menor probabilidad de supervivencia. Esto puede indicar que las familias más grandes encontraron más dificultades para evacuar juntas o tenían preferencias para quedarse juntas.\n",
        "* Sexo (Sex_female y Sex_male): 1.3004 y -1.3042\n",
        "\n",
        "Los coeficientes aquí muestran una fuerte influencia del género en la supervivencia. Ser mujer (Sex_female) aumenta significativamente la probabilidad de supervivencia, mientras que ser hombre (Sex_male) tiene el efecto contrario. Esto refleja la política de \"mujeres y niños primero\" en los botes salvavidas.\n",
        "* Embarque (Embarked_C, Embarked_Q, Embarked_S, Embarked_nan):\n",
        "\n",
        "Embarked_C (embarque en Cherbourg) tiene un coeficiente positivo, sugiriendo que los pasajeros que embarcaron allí tenían más probabilidades de sobrevivir.\n",
        "Embarked_Q (Queenstown) y Embarked_S (Southampton) tienen coeficientes negativos, indicando una menor probabilidad de supervivencia para los pasajeros de estos puertos.\n",
        "Embarked_nan representa los datos faltantes en esta categoría. Su coeficiente positivo es más difícil de interpretar directamente y podría estar influido por cómo se manejaron los datos faltantes durante la preparación de los datos."
      ],
      "metadata": {
        "id": "2HzeEtmI4as-"
      }
    },
    {
      "cell_type": "code",
      "source": [],
      "metadata": {
        "id": "MR0wwxfM4aJM"
      },
      "execution_count": null,
      "outputs": []
    }
  ]
}